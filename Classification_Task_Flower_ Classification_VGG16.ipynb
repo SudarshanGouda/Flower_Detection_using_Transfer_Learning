{
 "cells": [
  {
   "cell_type": "markdown",
   "id": "4a714ae2",
   "metadata": {},
   "source": [
    "# Classification_Task_Flower_ Classification_VGG16"
   ]
  },
  {
   "cell_type": "markdown",
   "id": "74725ad3",
   "metadata": {},
   "source": [
    "## Importing Data"
   ]
  },
  {
   "cell_type": "code",
   "execution_count": 22,
   "id": "c5de0869",
   "metadata": {},
   "outputs": [],
   "source": [
    "from tensorflow.keras.preprocessing.image import ImageDataGenerator\n",
    "import pandas as pd\n",
    "import numpy as np\n",
    "import matplotlib.pyplot as plt"
   ]
  },
  {
   "cell_type": "code",
   "execution_count": 23,
   "id": "55b0e902",
   "metadata": {},
   "outputs": [],
   "source": [
    "from tensorflow.keras.applications.vgg16 import VGG16,decode_predictions,preprocess_input\n",
    "from tensorflow.keras.models import Model"
   ]
  },
  {
   "cell_type": "code",
   "execution_count": 24,
   "id": "1acb33a4",
   "metadata": {},
   "outputs": [],
   "source": [
    "Train_dataGen = ImageDataGenerator(rescale=1/255,rotation_range=20,horizontal_flip=True,width_shift_range=0.2,\n",
    "    height_shift_range=0.2)\n",
    "Test_dataGen =ImageDataGenerator(rescale=1/255)"
   ]
  },
  {
   "cell_type": "markdown",
   "id": "490ac6a2",
   "metadata": {},
   "source": [
    "## VGG16 Model"
   ]
  },
  {
   "cell_type": "code",
   "execution_count": 25,
   "id": "8a849e24",
   "metadata": {},
   "outputs": [
    {
     "name": "stdout",
     "output_type": "stream",
     "text": [
      "Downloading data from https://storage.googleapis.com/tensorflow/keras-applications/vgg16/vgg16_weights_tf_dim_ordering_tf_kernels_notop.h5\n",
      "58892288/58889256 [==============================] - 66s 1us/step\n",
      "58900480/58889256 [==============================] - 66s 1us/step\n"
     ]
    }
   ],
   "source": [
    "model=VGG16(include_top=False,input_shape=(224,224,3))"
   ]
  },
  {
   "cell_type": "code",
   "execution_count": 26,
   "id": "94ce76bb",
   "metadata": {},
   "outputs": [],
   "source": [
    "# specify the layers loaded are not trainable\n",
    "\n",
    "for layer in model.layers:\n",
    "    layer.trainable=False"
   ]
  },
  {
   "cell_type": "code",
   "execution_count": 27,
   "id": "2c1dd547",
   "metadata": {},
   "outputs": [],
   "source": [
    "from keras import layers"
   ]
  },
  {
   "cell_type": "code",
   "execution_count": 28,
   "id": "0ab7d7db",
   "metadata": {},
   "outputs": [],
   "source": [
    "flatten_layer= layers.Flatten()(model.output)\n",
    "\n",
    "fC_layer= layers.Dense(512,activation='relu')(flatten_layer)\n",
    "fC_softmax_layer= layers.Dense(5,activation='softmax')(fC_layer)"
   ]
  },
  {
   "cell_type": "code",
   "execution_count": 29,
   "id": "9d5a1388",
   "metadata": {},
   "outputs": [],
   "source": [
    "model= Model(inputs=model.input,outputs=fC_softmax_layer)"
   ]
  },
  {
   "cell_type": "code",
   "execution_count": 30,
   "id": "453d3523",
   "metadata": {},
   "outputs": [
    {
     "name": "stdout",
     "output_type": "stream",
     "text": [
      "Found 3451 images belonging to 5 classes.\n",
      "Found 498 images belonging to 5 classes.\n"
     ]
    }
   ],
   "source": [
    "train_itt =Train_dataGen.flow_from_directory('D:\\\\DATA Science\\\\DEEP LEARNING\\\\CNN\\Flower_Classification\\\\DataSet\\\\Flower_by_Split_folder\\\\train',\n",
    "                                           batch_size=64,target_size=(224,224))\n",
    "\n",
    "test_itt = Test_dataGen.flow_from_directory('D:\\\\DATA Science\\\\DEEP LEARNING\\\\CNN\\Flower_Classification\\\\DataSet\\\\Flower_by_Split_folder\\\\test',\n",
    "                                           batch_size=64,target_size=(224,224))"
   ]
  },
  {
   "cell_type": "code",
   "execution_count": 31,
   "id": "8a6fefb4",
   "metadata": {},
   "outputs": [],
   "source": [
    "model.compile(loss='categorical_crossentropy',optimizer='adam',metrics=['accuracy'])"
   ]
  },
  {
   "cell_type": "code",
   "execution_count": null,
   "id": "48f043ae",
   "metadata": {},
   "outputs": [
    {
     "name": "stdout",
     "output_type": "stream",
     "text": [
      "Epoch 1/4\n",
      "34/54 [=================>............] - ETA: 8:31 - loss: 3.8424 - accuracy: 0.4657"
     ]
    }
   ],
   "source": [
    "model.fit(train_itt,validation_data=test_itt,epochs=4)"
   ]
  },
  {
   "cell_type": "code",
   "execution_count": null,
   "id": "8239fdd7",
   "metadata": {},
   "outputs": [],
   "source": [
    "losses = pd.DataFrame(model.history.history)"
   ]
  },
  {
   "cell_type": "code",
   "execution_count": null,
   "id": "cc256133",
   "metadata": {},
   "outputs": [],
   "source": [
    "losses.plot()"
   ]
  },
  {
   "cell_type": "code",
   "execution_count": null,
   "id": "93343cf5",
   "metadata": {},
   "outputs": [],
   "source": [
    "plt.plot(losses['loss'])\n",
    "plt.plot(losses['val_loss'])\n",
    "plt.title('model loss')\n",
    "plt.ylabel('loss')\n",
    "plt.xlabel('no of epochs')\n",
    "plt.legend(['train','test'],loc='upper left')\n",
    "plt.show()"
   ]
  },
  {
   "cell_type": "code",
   "execution_count": null,
   "id": "b8e49bbe",
   "metadata": {},
   "outputs": [],
   "source": [
    "plt.plot(losses['accuracy'])\n",
    "plt.plot(losses['val_accuracy'])\n",
    "plt.title('model loss')\n",
    "plt.ylabel('loss')\n",
    "plt.xlabel('no of epochs')\n",
    "plt.legend(['train','test'],loc='upper left')\n",
    "plt.show()"
   ]
  },
  {
   "cell_type": "code",
   "execution_count": null,
   "id": "9aeeef3d",
   "metadata": {},
   "outputs": [],
   "source": [
    "class_label= test_itt.class_indices\n",
    "class_label"
   ]
  },
  {
   "cell_type": "code",
   "execution_count": null,
   "id": "4c4faa8d",
   "metadata": {},
   "outputs": [],
   "source": [
    "model.save('VGG16_trained_model.h5')"
   ]
  }
 ],
 "metadata": {
  "kernelspec": {
   "display_name": "Python 3 (ipykernel)",
   "language": "python",
   "name": "python3"
  },
  "language_info": {
   "codemirror_mode": {
    "name": "ipython",
    "version": 3
   },
   "file_extension": ".py",
   "mimetype": "text/x-python",
   "name": "python",
   "nbconvert_exporter": "python",
   "pygments_lexer": "ipython3",
   "version": "3.9.7"
  }
 },
 "nbformat": 4,
 "nbformat_minor": 5
}

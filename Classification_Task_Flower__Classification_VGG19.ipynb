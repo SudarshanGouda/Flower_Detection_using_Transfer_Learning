{
  "nbformat": 4,
  "nbformat_minor": 0,
  "metadata": {
    "colab": {
      "name": "Classification_Task_Flower_ Classification_VGG19.ipynb",
      "provenance": [],
      "collapsed_sections": []
    },
    "kernelspec": {
      "name": "python3",
      "display_name": "Python 3"
    },
    "language_info": {
      "name": "python"
    },
    "gpuClass": "standard",
    "accelerator": "GPU"
  },
  "cells": [
    {
      "cell_type": "markdown",
      "source": [
        "# Classification_Task_Flower_ Classification_VGG19"
      ],
      "metadata": {
        "id": "NT0FzmenD7St"
      }
    },
    {
      "cell_type": "markdown",
      "source": [
        "**Checking System Config**"
      ],
      "metadata": {
        "id": "ssbpVkdQFc0a"
      }
    },
    {
      "cell_type": "code",
      "source": [
        "%cat /etc/lsb-release"
      ],
      "metadata": {
        "colab": {
          "base_uri": "https://localhost:8080/"
        },
        "id": "t_4RzkaOEAx3",
        "outputId": "aaa23ae3-cb3a-40a9-ebeb-bc669612c8ae"
      },
      "execution_count": null,
      "outputs": [
        {
          "output_type": "stream",
          "name": "stdout",
          "text": [
            "DISTRIB_ID=Ubuntu\n",
            "DISTRIB_RELEASE=18.04\n",
            "DISTRIB_CODENAME=bionic\n",
            "DISTRIB_DESCRIPTION=\"Ubuntu 18.04.6 LTS\"\n"
          ]
        }
      ]
    },
    {
      "cell_type": "markdown",
      "source": [
        "**Update Repositries**"
      ],
      "metadata": {
        "id": "IbIJ-GfwGqW5"
      }
    },
    {
      "cell_type": "code",
      "source": [
        "!apt-get update"
      ],
      "metadata": {
        "id": "AoHiTVPQGvcV",
        "colab": {
          "base_uri": "https://localhost:8080/"
        },
        "outputId": "41f7bc73-0d6b-4ce5-f6a8-35ac5280c3e1"
      },
      "execution_count": null,
      "outputs": [
        {
          "output_type": "stream",
          "name": "stdout",
          "text": [
            "Get:1 https://cloud.r-project.org/bin/linux/ubuntu bionic-cran40/ InRelease [3,626 B]\n",
            "Ign:2 https://developer.download.nvidia.com/compute/machine-learning/repos/ubuntu1804/x86_64  InRelease\n",
            "Get:3 https://developer.download.nvidia.com/compute/cuda/repos/ubuntu1804/x86_64  InRelease [1,581 B]\n",
            "Hit:4 https://developer.download.nvidia.com/compute/machine-learning/repos/ubuntu1804/x86_64  Release\n",
            "Get:5 http://ppa.launchpad.net/c2d4u.team/c2d4u4.0+/ubuntu bionic InRelease [15.9 kB]\n",
            "Hit:6 http://ppa.launchpad.net/cran/libgit2/ubuntu bionic InRelease\n",
            "Get:7 https://developer.download.nvidia.com/compute/cuda/repos/ubuntu1804/x86_64  Packages [902 kB]\n",
            "Get:8 http://ppa.launchpad.net/deadsnakes/ppa/ubuntu bionic InRelease [15.9 kB]\n",
            "Get:10 http://security.ubuntu.com/ubuntu bionic-security InRelease [88.7 kB]\n",
            "Get:11 http://security.ubuntu.com/ubuntu bionic-security/main amd64 Packages [2,905 kB]\n",
            "Get:12 http://security.ubuntu.com/ubuntu bionic-security/universe amd64 Packages [1,528 kB]\n",
            "Hit:13 http://ppa.launchpad.net/graphics-drivers/ppa/ubuntu bionic InRelease\n",
            "Get:14 http://ppa.launchpad.net/c2d4u.team/c2d4u4.0+/ubuntu bionic/main Sources [2,077 kB]\n",
            "Hit:15 http://archive.ubuntu.com/ubuntu bionic InRelease\n",
            "Get:16 http://archive.ubuntu.com/ubuntu bionic-updates InRelease [88.7 kB]\n",
            "Get:17 http://archive.ubuntu.com/ubuntu bionic-backports InRelease [74.6 kB]\n",
            "Get:18 http://archive.ubuntu.com/ubuntu bionic-updates/main amd64 Packages [3,336 kB]\n",
            "Get:19 http://archive.ubuntu.com/ubuntu bionic-updates/universe amd64 Packages [2,306 kB]\n",
            "Get:20 http://ppa.launchpad.net/c2d4u.team/c2d4u4.0+/ubuntu bionic/main amd64 Packages [1,064 kB]\n",
            "Get:21 http://ppa.launchpad.net/deadsnakes/ppa/ubuntu bionic/main amd64 Packages [45.3 kB]\n",
            "Fetched 14.5 MB in 5s (2,699 kB/s)\n",
            "Reading package lists... Done\n"
          ]
        }
      ]
    },
    {
      "cell_type": "code",
      "source": [
        "%cd /content/drive/My Drive/DL"
      ],
      "metadata": {
        "colab": {
          "base_uri": "https://localhost:8080/"
        },
        "id": "LyCFD4d2HQ_M",
        "outputId": "efc10c88-21dd-4608-fed8-da7ee8b3e649"
      },
      "execution_count": null,
      "outputs": [
        {
          "output_type": "stream",
          "name": "stdout",
          "text": [
            "[Errno 2] No such file or directory: '/content/drive/My Drive/DL'\n",
            "/content\n"
          ]
        }
      ]
    },
    {
      "cell_type": "code",
      "source": [
        "!unzip Flowers_Manual.zip"
      ],
      "metadata": {
        "id": "82X8ZjKYHd1N"
      },
      "execution_count": null,
      "outputs": []
    },
    {
      "cell_type": "code",
      "source": [
        "%pwd"
      ],
      "metadata": {
        "colab": {
          "base_uri": "https://localhost:8080/",
          "height": 35
        },
        "id": "pkaO50sgIGqm",
        "outputId": "4cab1aa5-ce1e-4254-8696-4da989a5bc92"
      },
      "execution_count": null,
      "outputs": [
        {
          "output_type": "execute_result",
          "data": {
            "text/plain": [
              "'/content'"
            ],
            "application/vnd.google.colaboratory.intrinsic+json": {
              "type": "string"
            }
          },
          "metadata": {},
          "execution_count": 8
        }
      ]
    },
    {
      "cell_type": "code",
      "source": [
        "%cd /content/drive/MyDrive/DL/Flowers_Manual/"
      ],
      "metadata": {
        "id": "gqSjQyFvEAsZ",
        "colab": {
          "base_uri": "https://localhost:8080/"
        },
        "outputId": "c812b294-d98f-4d46-c1d4-fd7c244d462e"
      },
      "execution_count": null,
      "outputs": [
        {
          "output_type": "stream",
          "name": "stdout",
          "text": [
            "/content/drive/MyDrive/DL/Flowers_Manual\n"
          ]
        }
      ]
    },
    {
      "cell_type": "markdown",
      "source": [
        "## Libraries"
      ],
      "metadata": {
        "id": "kn4HbequJERP"
      }
    },
    {
      "cell_type": "code",
      "source": [
        "from tensorflow.keras.preprocessing.image import ImageDataGenerator\n",
        "import pandas as pd\n",
        "import numpy as np\n",
        "import matplotlib.pyplot as plt\n",
        "from tensorflow.keras.applications.vgg19 import VGG19,decode_predictions,preprocess_input\n",
        "from tensorflow.keras.models import Model\n",
        "from keras import layers"
      ],
      "metadata": {
        "id": "sDvT7HmrEAkA"
      },
      "execution_count": null,
      "outputs": []
    },
    {
      "cell_type": "markdown",
      "source": [
        "## Mode"
      ],
      "metadata": {
        "id": "dfGZh-51JQ4_"
      }
    },
    {
      "cell_type": "code",
      "source": [
        "Train_dataGen = ImageDataGenerator(rescale=1/255,rotation_range=20,horizontal_flip=True,width_shift_range=0.2,\n",
        "    height_shift_range=0.2)\n",
        "Test_dataGen =ImageDataGenerator(rescale=1/255)\n",
        "\n",
        "model=VGG19(include_top=False,input_shape=(224,224,3))\n",
        "\n",
        "for layer in model.layers:\n",
        "    layer.trainable=False\n",
        "\n",
        "flatten_layer= layers.Flatten()(model.output)\n",
        "\n",
        "fC_layer= layers.Dense(512,activation='relu')(flatten_layer)\n",
        "fC_softmax_layer= layers.Dense(5,activation='softmax')(fC_layer)\n",
        "\n",
        "model= Model(inputs=model.input,outputs=fC_softmax_layer)"
      ],
      "metadata": {
        "id": "4ae236dhJL2Y"
      },
      "execution_count": null,
      "outputs": []
    },
    {
      "cell_type": "code",
      "source": [
        "train_itt =Train_dataGen.flow_from_directory('Train',\n",
        "                                             batch_size=64,target_size=(224,224))\n",
        "\n",
        "test_itt = Test_dataGen.flow_from_directory('Test',\n",
        "                                            batch_size=64,target_size=(224,224))"
      ],
      "metadata": {
        "colab": {
          "base_uri": "https://localhost:8080/"
        },
        "id": "mfJ_CXPOJ3Ld",
        "outputId": "b46395a2-dcb9-465b-8aa3-71d70558ac07"
      },
      "execution_count": null,
      "outputs": [
        {
          "output_type": "stream",
          "name": "stdout",
          "text": [
            "Found 3735 images belonging to 5 classes.\n",
            "Found 1199 images belonging to 5 classes.\n"
          ]
        }
      ]
    },
    {
      "cell_type": "code",
      "source": [
        "model.compile(loss='categorical_crossentropy',optimizer='adam',metrics=['accuracy'])\n",
        "model.fit(train_itt,validation_data=test_itt,epochs=5)"
      ],
      "metadata": {
        "colab": {
          "base_uri": "https://localhost:8080/"
        },
        "id": "NPIq8NenK0TL",
        "outputId": "b2e18012-23af-445b-cff1-e120cd720880"
      },
      "execution_count": null,
      "outputs": [
        {
          "output_type": "stream",
          "name": "stdout",
          "text": [
            "Epoch 1/5\n",
            "59/59 [==============================] - 1793s 30s/step - loss: 2.5043 - accuracy: 0.5580 - val_loss: 0.7354 - val_accuracy: 0.7273\n",
            "Epoch 2/5\n",
            "59/59 [==============================] - 69s 1s/step - loss: 0.6342 - accuracy: 0.7732 - val_loss: 0.6300 - val_accuracy: 0.7640\n",
            "Epoch 3/5\n",
            "59/59 [==============================] - 67s 1s/step - loss: 0.5400 - accuracy: 0.8078 - val_loss: 0.6090 - val_accuracy: 0.7698\n",
            "Epoch 4/5\n",
            "59/59 [==============================] - 69s 1s/step - loss: 0.5525 - accuracy: 0.8062 - val_loss: 0.5627 - val_accuracy: 0.7973\n",
            "Epoch 5/5\n",
            "59/59 [==============================] - 68s 1s/step - loss: 0.4415 - accuracy: 0.8369 - val_loss: 0.5762 - val_accuracy: 0.7998\n"
          ]
        },
        {
          "output_type": "execute_result",
          "data": {
            "text/plain": [
              "<keras.callbacks.History at 0x7fd4b05bd0d0>"
            ]
          },
          "metadata": {},
          "execution_count": 8
        }
      ]
    },
    {
      "cell_type": "code",
      "source": [
        "losses = pd.DataFrame(model.history.history)\n",
        "losses.plot()"
      ],
      "metadata": {
        "colab": {
          "base_uri": "https://localhost:8080/",
          "height": 282
        },
        "id": "d33D1EraLgKs",
        "outputId": "46aa0907-b4cb-4400-ff97-330c731eef10"
      },
      "execution_count": null,
      "outputs": [
        {
          "output_type": "execute_result",
          "data": {
            "text/plain": [
              "<matplotlib.axes._subplots.AxesSubplot at 0x7fd436383c50>"
            ]
          },
          "metadata": {},
          "execution_count": 9
        },
        {
          "output_type": "display_data",
          "data": {
            "text/plain": [
              "<Figure size 432x288 with 1 Axes>"
            ],
            "image/png": "[encoded data removed]"
          },
          "metadata": {
            "needs_background": "light"
          }
        }
      ]
    },
    {
      "cell_type": "code",
      "source": [
        "plt.plot(losses['loss'])\n",
        "plt.plot(losses['val_loss'])\n",
        "plt.title('model loss')\n",
        "plt.ylabel('loss')\n",
        "plt.xlabel('no of epochs')\n",
        "plt.legend(['train','test'],loc='upper left')\n",
        "plt.show()"
      ],
      "metadata": {
        "colab": {
          "base_uri": "https://localhost:8080/",
          "height": 295
        },
        "id": "4kEyvM3tLih0",
        "outputId": "79268361-357d-4977-88dd-bf663d152204"
      },
      "execution_count": null,
      "outputs": [
        {
          "output_type": "display_data",
          "data": {
            "text/plain": [
              "<Figure size 432x288 with 1 Axes>"
            ],
            "image/png": "[encoded data removed]"
          },
          "metadata": {
            "needs_background": "light"
          }
        }
      ]
    },
    {
      "cell_type": "code",
      "source": [
        "plt.plot(losses['accuracy'])\n",
        "plt.plot(losses['val_accuracy'])\n",
        "plt.title('model loss')\n",
        "plt.ylabel('loss')\n",
        "plt.xlabel('no of epochs')\n",
        "plt.legend(['train','test'],loc='upper left')\n",
        "plt.show()"
      ],
      "metadata": {
        "colab": {
          "base_uri": "https://localhost:8080/",
          "height": 295
        },
        "id": "tdcwUFomLkUr",
        "outputId": "a8a6a0d3-5f08-4a49-8296-05a896eca34b"
      },
      "execution_count": null,
      "outputs": [
        {
          "output_type": "display_data",
          "data": {
            "text/plain": [
              "<Figure size 432x288 with 1 Axes>"
            ],
            "image/png": "[encoded data removed]"
          },
          "metadata": {
            "needs_background": "light"
          }
        }
      ]
    },
    {
      "cell_type": "code",
      "source": [
        "model.save('/content/drive/MyDrive/DL/VGG19_trained_model.h5')"
      ],
      "metadata": {
        "id": "X3zev1VGLmTp"
      },
      "execution_count": null,
      "outputs": []
    },
    {
      "cell_type": "markdown",
      "source": [
        "## Predicting Mode"
      ],
      "metadata": {
        "id": "_gjEVgPZNnak"
      }
    },
    {
      "cell_type": "code",
      "source": [
        "from tensorflow.keras.models import load_model\n",
        "from tensorflow.keras.preprocessing.image import load_img,img_to_array\n",
        "import matplotlib.pyplot as plt\n",
        "import numpy as np"
      ],
      "metadata": {
        "id": "q35pHHQaNm4z"
      },
      "execution_count": null,
      "outputs": []
    },
    {
      "cell_type": "code",
      "source": [
        "model= load_model('/content/drive/MyDrive/DL/VGG19_trained_model.h5')"
      ],
      "metadata": {
        "id": "7LFLEhg5Nu22"
      },
      "execution_count": null,
      "outputs": []
    },
    {
      "cell_type": "code",
      "source": [
        "image = load_img('/content/drive/MyDrive/DL/Images/rose.jpg',target_size=(224,224))\n",
        "plt.imshow(image)\n",
        "plt.show()\n",
        "image= img_to_array(image)\n",
        "image=image.reshape(1,224,224,3)"
      ],
      "metadata": {
        "id": "tXomxzVsNznw"
      },
      "execution_count": null,
      "outputs": []
    },
    {
      "cell_type": "code",
      "source": [
        "result=model.predict(image)\n",
        "class_label={'daisy': 0, 'dandelion': 1, 'rose': 2, 'sunflower': 3, 'tulip': 4}\n",
        "result=np.argmax(result)\n",
        "\n",
        "print([key for key in class_label][result])"
      ],
      "metadata": {
        "colab": {
          "base_uri": "https://localhost:8080/"
        },
        "id": "aKtumbr0Ofbc",
        "outputId": "1ab47dd3-13dc-4f3c-c35a-57120db1074b"
      },
      "execution_count": null,
      "outputs": [
        {
          "output_type": "stream",
          "name": "stdout",
          "text": [
            "tulip\n"
          ]
        }
      ]
    }
  ]
}